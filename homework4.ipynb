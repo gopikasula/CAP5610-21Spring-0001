{
  "nbformat": 4,
  "nbformat_minor": 0,
  "metadata": {
    "colab": {
      "name": "homework4.ipynb",
      "provenance": []
    },
    "kernelspec": {
      "name": "python3",
      "display_name": "Python 3"
    }
  },
  "cells": [
    {
      "cell_type": "markdown",
      "metadata": {
        "id": "C8-qjehLVkAJ"
      },
      "source": [
        "**TASK 1**"
      ]
    },
    {
      "cell_type": "code",
      "metadata": {
        "id": "ksv51a1aVruK"
      },
      "source": [
        "import pandas as pd\n",
        "import numpy as np\n",
        "from sklearn.preprocessing import normalize\n",
        "from sklearn import metrics\n",
        "import random\n",
        "import seaborn as sns\n",
        "from scipy import stats\n",
        "from copy import deepcopy\n",
        "from sklearn.cluster import KMeans\n",
        "from datetime import datetime"
      ],
      "execution_count": 97,
      "outputs": []
    },
    {
      "cell_type": "code",
      "metadata": {
        "colab": {
          "resources": {
            "http://localhost:8080/nbextensions/google.colab/files.js": {
              "data": "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",
              "ok": true,
              "headers": [
                [
                  "content-type",
                  "application/javascript"
                ]
              ],
              "status": 200,
              "status_text": ""
            }
          },
          "base_uri": "https://localhost:8080/",
          "height": 74
        },
        "id": "Ii-ip8zYb_Ae",
        "outputId": "8c562a4d-e036-4ea2-cad5-04a88409af77"
      },
      "source": [
        "from google.colab import files\n",
        "data = files.upload()"
      ],
      "execution_count": 3,
      "outputs": [
        {
          "output_type": "display_data",
          "data": {
            "text/html": [
              "\n",
              "     <input type=\"file\" id=\"files-fceaaff7-811f-42bd-8bf8-b36e8229b348\" name=\"files[]\" multiple disabled\n",
              "        style=\"border:none\" />\n",
              "     <output id=\"result-fceaaff7-811f-42bd-8bf8-b36e8229b348\">\n",
              "      Upload widget is only available when the cell has been executed in the\n",
              "      current browser session. Please rerun this cell to enable.\n",
              "      </output>\n",
              "      <script src=\"/nbextensions/google.colab/files.js\"></script> "
            ],
            "text/plain": [
              "<IPython.core.display.HTML object>"
            ]
          },
          "metadata": {
            "tags": []
          }
        },
        {
          "output_type": "stream",
          "text": [
            "Saving football.csv to football.csv\n"
          ],
          "name": "stdout"
        }
      ]
    },
    {
      "cell_type": "code",
      "metadata": {
        "colab": {
          "base_uri": "https://localhost:8080/",
          "height": 195
        },
        "id": "bzegDGkicD2E",
        "outputId": "3e137d0a-a4b3-4bc0-dec4-1aa8d511c272"
      },
      "source": [
        "data = pd.read_csv('football.csv')\n",
        "data.head()"
      ],
      "execution_count": 98,
      "outputs": [
        {
          "output_type": "execute_result",
          "data": {
            "text/html": [
              "<div>\n",
              "<style scoped>\n",
              "    .dataframe tbody tr th:only-of-type {\n",
              "        vertical-align: middle;\n",
              "    }\n",
              "\n",
              "    .dataframe tbody tr th {\n",
              "        vertical-align: top;\n",
              "    }\n",
              "\n",
              "    .dataframe thead th {\n",
              "        text-align: right;\n",
              "    }\n",
              "</style>\n",
              "<table border=\"1\" class=\"dataframe\">\n",
              "  <thead>\n",
              "    <tr style=\"text-align: right;\">\n",
              "      <th></th>\n",
              "      <th>Team</th>\n",
              "      <th>winsInSeason2016</th>\n",
              "      <th>winsInSeason2017</th>\n",
              "    </tr>\n",
              "  </thead>\n",
              "  <tbody>\n",
              "    <tr>\n",
              "      <th>0</th>\n",
              "      <td>X1</td>\n",
              "      <td>3</td>\n",
              "      <td>5</td>\n",
              "    </tr>\n",
              "    <tr>\n",
              "      <th>1</th>\n",
              "      <td>X2</td>\n",
              "      <td>3</td>\n",
              "      <td>4</td>\n",
              "    </tr>\n",
              "    <tr>\n",
              "      <th>2</th>\n",
              "      <td>X3</td>\n",
              "      <td>2</td>\n",
              "      <td>8</td>\n",
              "    </tr>\n",
              "    <tr>\n",
              "      <th>3</th>\n",
              "      <td>X4</td>\n",
              "      <td>2</td>\n",
              "      <td>3</td>\n",
              "    </tr>\n",
              "    <tr>\n",
              "      <th>4</th>\n",
              "      <td>X5</td>\n",
              "      <td>6</td>\n",
              "      <td>2</td>\n",
              "    </tr>\n",
              "  </tbody>\n",
              "</table>\n",
              "</div>"
            ],
            "text/plain": [
              "  Team  winsInSeason2016  winsInSeason2017\n",
              "0   X1                 3                 5\n",
              "1   X2                 3                 4\n",
              "2   X3                 2                 8\n",
              "3   X4                 2                 3\n",
              "4   X5                 6                 2"
            ]
          },
          "metadata": {
            "tags": []
          },
          "execution_count": 98
        }
      ]
    },
    {
      "cell_type": "code",
      "metadata": {
        "id": "X32eDiAJfiLN"
      },
      "source": [
        "def loadCSV(fileName):\n",
        "    fileHandler = open(fileName, \"rt\")\n",
        "    lines = fileHandler.readlines()\n",
        "    fileHandler.close()\n",
        "    del lines[0] # remove the header\n",
        "    dataset = []\n",
        "    for line in lines:\n",
        "        instance = lineToTuple(line)\n",
        "        dataset.append(instance)\n",
        "    return dataset"
      ],
      "execution_count": 99,
      "outputs": []
    },
    {
      "cell_type": "code",
      "metadata": {
        "id": "tXGf2yXzfiLO"
      },
      "source": [
        "def lineToTuple(line):\n",
        "    # remove leading/trailing witespace and newlines\n",
        "    cleanLine = line.strip()\n",
        "    # get rid of quotes\n",
        "    cleanLine = cleanLine.replace('\"', '')\n",
        "    # separate the fields\n",
        "    lineList = cleanLine.split(\",\")\n",
        "    # convert strings into numbers\n",
        "    stringsToNumbers(lineList)\n",
        "    lineTuple = tuple(lineList)\n",
        "    return lineTuple"
      ],
      "execution_count": 100,
      "outputs": []
    },
    {
      "cell_type": "code",
      "metadata": {
        "id": "v4ziJ04MfiLO"
      },
      "source": [
        "def stringsToNumbers(myList):\n",
        "    for i in range(len(myList)):\n",
        "        if (isValidNumberString(myList[i])):\n",
        "            myList[i] = float(myList[i])"
      ],
      "execution_count": 102,
      "outputs": []
    },
    {
      "cell_type": "code",
      "metadata": {
        "id": "WKsl2ZgufiLO"
      },
      "source": [
        "def isValidNumberString(s):\n",
        "    if len(s) == 0:\n",
        "        return False\n",
        "    if  len(s) > 1 and s[0] == \"-\":\n",
        "        s = s[1:]\n",
        "    for c in s:\n",
        "        if c not in \"0123456789.\":\n",
        "            return False\n",
        "    return True"
      ],
      "execution_count": 103,
      "outputs": []
    },
    {
      "cell_type": "code",
      "metadata": {
        "id": "J8x9TEB1fiLO"
      },
      "source": [
        "def distance(instance1, instance2):\n",
        "    if instance1 == None or instance2 == None:\n",
        "        return float(\"inf\")\n",
        "    sumOfSquares = 0\n",
        "    for i in range(0, len(instance1)-1):\n",
        "        sumOfSquares += (instance1[i+1] - instance2[i])**2\n",
        "    return sumOfSquares\n"
      ],
      "execution_count": 104,
      "outputs": []
    },
    {
      "cell_type": "code",
      "metadata": {
        "id": "HcIPgIklfiLP"
      },
      "source": [
        "def meanInstance(name, instanceList):\n",
        "    numInstances = len(instanceList)\n",
        "    if (numInstances == 0):\n",
        "        return\n",
        "    numAttributes = len(instanceList[0])\n",
        "    means = [name] + [0] * (numAttributes)\n",
        "    for instance in instanceList:\n",
        "        for i in range(0, numAttributes):\n",
        "            means[i+1] += instance[i]\n",
        "   \n",
        "    for i in range(0, numAttributes):\n",
        "        means[i+1] /= float(numInstances)\n",
        "    return tuple(means)"
      ],
      "execution_count": 105,
      "outputs": []
    },
    {
      "cell_type": "code",
      "metadata": {
        "id": "ZxCh7FfFfiLP"
      },
      "source": [
        "def assign(instance, centroids, dist):\n",
        "    minDistance = dist(centroids[0],instance)\n",
        "    minDistanceIndex = 0\n",
        "    for i in range(1, len(centroids)):\n",
        "        d = dist(centroids[i], instance )\n",
        "        if (d < minDistance):\n",
        "            minDistance = d\n",
        "            minDistanceIndex = i\n",
        "    return minDistanceIndex"
      ],
      "execution_count": 106,
      "outputs": []
    },
    {
      "cell_type": "code",
      "metadata": {
        "id": "27lOVem_fiLP"
      },
      "source": [
        "def createEmptyListOfLists(numSubLists):\n",
        "    myList = []\n",
        "    for i in range(numSubLists):\n",
        "        myList.append([])\n",
        "    return myList"
      ],
      "execution_count": 107,
      "outputs": []
    },
    {
      "cell_type": "code",
      "metadata": {
        "id": "47BYtIRHfiLP"
      },
      "source": [
        "def assignAll(instances, centroids, labels, dist):\n",
        "    clusters = createEmptyListOfLists(len(centroids))\n",
        "    classclusters = createEmptyListOfLists(len(centroids))\n",
        "    i=0\n",
        "    for instance in instances:\n",
        "        clusterIndex = assign(instance, centroids, dist)\n",
        "        clusters[clusterIndex].append(instance)\n",
        "        classclusters[clusterIndex].append(labels[i])\n",
        "        i=i+1\n",
        "    return clusters, classclusters"
      ],
      "execution_count": 108,
      "outputs": []
    },
    {
      "cell_type": "code",
      "metadata": {
        "id": "jrR6Tot3fiLP"
      },
      "source": [
        "def computeCentroids(clusters):\n",
        "    centroids = []\n",
        "    for i in range(len(clusters)):\n",
        "        name = \"CENTROID\" + str(i)\n",
        "        centroid = meanInstance(name, clusters[i])\n",
        "        centroids.append(centroid)\n",
        "    return centroids"
      ],
      "execution_count": 138,
      "outputs": []
    },
    {
      "cell_type": "code",
      "metadata": {
        "id": "ogfCsJkefiLP"
      },
      "source": [
        "def kmeans(instances, k, dist,labels, animation=False, initCentroids=None):\n",
        "    result = {}\n",
        "    if (initCentroids == None or len(initCentroids) < k):\n",
        "        # randomly select k initial centroids\n",
        "        random.seed(time.time())\n",
        "        centroids = random.sample(instances, k)\n",
        "    else:\n",
        "        centroids = initCentroids\n",
        "    prevCentroids = []\n",
        "    if animation:\n",
        "        delay = 1.0 # seconds\n",
        "#         canvas = prepareWindow(instances)\n",
        "        clusters = createEmptyListOfLists(k)\n",
        "        clusters[0] = instances\n",
        "        #paintClusters2D(canvas, clusters, centroids, \"Initial centroids\")\n",
        "#         time.sleep(delay)\n",
        "    iteration = 0\n",
        "    while (centroids != prevCentroids and iteration <1):\n",
        "        iteration += 1\n",
        "        clusters, votelabels = assignAll(instances, centroids, labels, dist)\n",
        "        #if animation:\n",
        "            #paintClusters2D(canvas, clusters, centroids, \"Assign %d\" % iteration)\n",
        "            #time.sleep(delay)\n",
        "        prevCentroids = centroids\n",
        "        centroids = computeCentroids(clusters)\n",
        "        withinss = computeWithinss(clusters, centroids, dist)\n",
        "#         if animation:\n",
        "#             paintClusters2D(canvas, clusters, centroids,\n",
        "#                             \"Update %d, withinss %.1f\" % (iteration, withinss))\n",
        "#             time.sleep(delay)\n",
        "    print('ITERATIONS: ', iteration)\n",
        "    result[\"clusters\"] = clusters\n",
        "    result[\"centroids\"] = centroids\n",
        "    result[\"withinss\"] = withinss\n",
        "    result[\"labels\"] = votelabels\n",
        "    return result"
      ],
      "execution_count": 143,
      "outputs": []
    },
    {
      "cell_type": "code",
      "metadata": {
        "id": "6r82LbHQfiLQ"
      },
      "source": [
        "def computeWithinss(clusters, centroids, dist):\n",
        "    result = 0\n",
        "    for i in range(len(centroids)):\n",
        "        centroid = centroids[i]\n",
        "        cluster = clusters[i]\n",
        "        for instance in cluster:\n",
        "            result += dist(centroid, instance)\n",
        "    return result\n"
      ],
      "execution_count": 111,
      "outputs": []
    },
    {
      "cell_type": "code",
      "metadata": {
        "id": "2WFFV_4JfiLQ"
      },
      "source": [
        "def repeatedKMeans(instances, k, n):\n",
        "    bestClustering = {}\n",
        "    bestClustering[\"withinss\"] = float(\"inf\")\n",
        "    for i in range(1, n+1):\n",
        "        print (\"k-means trial %d,\" % i )\n",
        "        trialClustering = kmeans(instances, k)\n",
        "        print (\"withinss: %.1f\" % trialClustering[\"withinss\"])\n",
        "        if trialClustering[\"withinss\"] < bestClustering[\"withinss\"]:\n",
        "            bestClustering = trialClustering\n",
        "            minWithinssTrial = i\n",
        "    print(\"Trial with minimum withinss:\", minWithinssTrial)\n",
        "    return bestClustering\n"
      ],
      "execution_count": 112,
      "outputs": []
    },
    {
      "cell_type": "code",
      "metadata": {
        "id": "BX2DuZiDjjxZ"
      },
      "source": [
        "def euclidean(centroid, data):\n",
        "    sum1=[]\n",
        "    if len(centroid) == len(data)+1:\n",
        "        centroid=centroid[1:]\n",
        "    for i in range (0, len(data)):\n",
        "        sum1.append((centroid[i- data[i])**2)\n",
        "    \n",
        "    \n",
        "    euclidean= math.sqrt(sum(sum1))\n",
        "    return euclidean"
      ],
      "execution_count": 127,
      "outputs": []
    },
    {
      "cell_type": "code",
      "metadata": {
        "id": "zJuxhN7yauoS"
      },
      "source": [
        "def manhatten(x,y):\n",
        "    res=[]\n",
        "    if len(x) == len(y)+1:\n",
        "        x=x[1:]\n",
        "    for i in range(len(x)):\n",
        "        res.append(abs(x[i]-y[i]))\n",
        "        \n",
        "    return sum(res) "
      ],
      "execution_count": 150,
      "outputs": []
    },
    {
      "cell_type": "code",
      "metadata": {
        "id": "8LoyDOnWauoS"
      },
      "source": [
        "def sse(clustering, centroids):\n",
        "    i=0\n",
        "    SSE=0\n",
        "    for clust in clustering:\n",
        "        for data in clust:\n",
        "            SSE=SSE+distance(centroids[i], data)\n",
        "        i=i+1\n",
        "    return SSE"
      ],
      "execution_count": 149,
      "outputs": []
    },
    {
      "cell_type": "code",
      "metadata": {
        "id": "SzkZ6o8BfiLT"
      },
      "source": [
        "labels =data.Team"
      ],
      "execution_count": 155,
      "outputs": []
    },
    {
      "cell_type": "code",
      "metadata": {
        "id": "S106tcbyfiLT"
      },
      "source": [
        "data = data.drop(['Team'], axis=1)"
      ],
      "execution_count": 157,
      "outputs": []
    },
    {
      "cell_type": "code",
      "metadata": {
        "id": "66g7-hRffiLT",
        "colab": {
          "base_uri": "https://localhost:8080/",
          "height": 343
        },
        "outputId": "6339d221-944b-4e3b-eaf1-f59456a757d3"
      },
      "source": [
        "data"
      ],
      "execution_count": 158,
      "outputs": [
        {
          "output_type": "execute_result",
          "data": {
            "text/html": [
              "<div>\n",
              "<style scoped>\n",
              "    .dataframe tbody tr th:only-of-type {\n",
              "        vertical-align: middle;\n",
              "    }\n",
              "\n",
              "    .dataframe tbody tr th {\n",
              "        vertical-align: top;\n",
              "    }\n",
              "\n",
              "    .dataframe thead th {\n",
              "        text-align: right;\n",
              "    }\n",
              "</style>\n",
              "<table border=\"1\" class=\"dataframe\">\n",
              "  <thead>\n",
              "    <tr style=\"text-align: right;\">\n",
              "      <th></th>\n",
              "      <th>winsInSeason2016</th>\n",
              "      <th>winsInSeason2017</th>\n",
              "    </tr>\n",
              "  </thead>\n",
              "  <tbody>\n",
              "    <tr>\n",
              "      <th>0</th>\n",
              "      <td>3</td>\n",
              "      <td>5</td>\n",
              "    </tr>\n",
              "    <tr>\n",
              "      <th>1</th>\n",
              "      <td>3</td>\n",
              "      <td>4</td>\n",
              "    </tr>\n",
              "    <tr>\n",
              "      <th>2</th>\n",
              "      <td>2</td>\n",
              "      <td>8</td>\n",
              "    </tr>\n",
              "    <tr>\n",
              "      <th>3</th>\n",
              "      <td>2</td>\n",
              "      <td>3</td>\n",
              "    </tr>\n",
              "    <tr>\n",
              "      <th>4</th>\n",
              "      <td>6</td>\n",
              "      <td>2</td>\n",
              "    </tr>\n",
              "    <tr>\n",
              "      <th>5</th>\n",
              "      <td>6</td>\n",
              "      <td>4</td>\n",
              "    </tr>\n",
              "    <tr>\n",
              "      <th>6</th>\n",
              "      <td>7</td>\n",
              "      <td>3</td>\n",
              "    </tr>\n",
              "    <tr>\n",
              "      <th>7</th>\n",
              "      <td>7</td>\n",
              "      <td>4</td>\n",
              "    </tr>\n",
              "    <tr>\n",
              "      <th>8</th>\n",
              "      <td>8</td>\n",
              "      <td>5</td>\n",
              "    </tr>\n",
              "    <tr>\n",
              "      <th>9</th>\n",
              "      <td>7</td>\n",
              "      <td>6</td>\n",
              "    </tr>\n",
              "  </tbody>\n",
              "</table>\n",
              "</div>"
            ],
            "text/plain": [
              "   winsInSeason2016  winsInSeason2017\n",
              "0                 3                 5\n",
              "1                 3                 4\n",
              "2                 2                 8\n",
              "3                 2                 3\n",
              "4                 6                 2\n",
              "5                 6                 4\n",
              "6                 7                 3\n",
              "7                 7                 4\n",
              "8                 8                 5\n",
              "9                 7                 6"
            ]
          },
          "metadata": {
            "tags": []
          },
          "execution_count": 158
        }
      ]
    },
    {
      "cell_type": "code",
      "metadata": {
        "id": "-ai4CbPdfiLU"
      },
      "source": [
        "a = np.array([[4, 6], [5, 4]])"
      ],
      "execution_count": 173,
      "outputs": []
    },
    {
      "cell_type": "code",
      "metadata": {
        "id": "zxA2k64WfiLU"
      },
      "source": [
        "dataset = data.values.tolist()"
      ],
      "execution_count": 161,
      "outputs": []
    },
    {
      "cell_type": "code",
      "metadata": {
        "id": "s8lIvwqwfiLU"
      },
      "source": [
        "x = data.winsInSeason2016\n",
        "y = data.winsInSeason2017"
      ],
      "execution_count": 174,
      "outputs": []
    },
    {
      "cell_type": "markdown",
      "metadata": {
        "id": "L-Z9DYj6snJa"
      },
      "source": [
        "**ANSWER : 1**"
      ]
    },
    {
      "cell_type": "code",
      "metadata": {
        "id": "zL0HybfBauoS",
        "colab": {
          "base_uri": "https://localhost:8080/"
        },
        "outputId": "9de8f714-8e06-473f-fa7b-2df53ed9b53f"
      },
      "source": [
        "clustering = kmeans(dataset, 2, manhatten,labels, True, initCentroids=[[4,6],[5,4]])\n",
        "printTable(clustering[\"centroids\"])\n",
        "print(clustering['clusters'])\n",
        "print('SSE: ',sse(clustering['clusters'],clustering['centroids']))"
      ],
      "execution_count": 175,
      "outputs": [
        {
          "output_type": "stream",
          "text": [
            "ITERATIONS:  1\n",
            "CENTROID0\t4.00 6.33 \n",
            "CENTROID1\t5.57 3.57 \n",
            "[[[3, 5], [2, 8], [7, 6]], [[3, 4], [2, 3], [6, 2], [6, 4], [7, 3], [7, 4], [8, 5]]]\n",
            "SSE:  54.09523809523809\n"
          ],
          "name": "stdout"
        }
      ]
    },
    {
      "cell_type": "markdown",
      "metadata": {
        "id": "Qm8lZnW6swUx"
      },
      "source": [
        "**ANSWER : 2**"
      ]
    },
    {
      "cell_type": "code",
      "metadata": {
        "id": "MX7zCtH2auoS",
        "colab": {
          "base_uri": "https://localhost:8080/"
        },
        "outputId": "eab148dd-dc21-43de-aa00-dcc37c79c2a8"
      },
      "source": [
        "clustering = kmeans(dataset_f, 2, euclidean,labels, True, initCentroids=[[4,6],[5,4]])\n",
        "printTable(clustering[\"centroids\"])\n",
        "print(clustering['clusters'])\n",
        "print('SSE: ',sse(clustering['clusters'],clustering['centroids']))"
      ],
      "execution_count": 176,
      "outputs": [
        {
          "output_type": "stream",
          "text": [
            "ITERATIONS:  1\n",
            "CENTROID0\t2.50 6.50 \n",
            "CENTROID1\t5.75 3.88 \n",
            "[[[3, 5], [2, 8]], [[3, 4], [2, 3], [6, 2], [6, 4], [7, 3], [7, 4], [8, 5], [7, 6]]]\n",
            "SSE:  47.375\n"
          ],
          "name": "stdout"
        }
      ]
    },
    {
      "cell_type": "markdown",
      "metadata": {
        "id": "6ZviZxkbs0gt"
      },
      "source": [
        "**ANSWER : 3**"
      ]
    },
    {
      "cell_type": "code",
      "metadata": {
        "id": "dFMQFQZAauoS",
        "colab": {
          "base_uri": "https://localhost:8080/"
        },
        "outputId": "f107660d-d8ef-4de4-945e-35a50e431dc8"
      },
      "source": [
        "clustering = kmeans(dataset_f, 2, manhatten,labels, True, initCentroids=[[3,3],[8,3]])\n",
        "printTable(clustering[\"centroids\"])\n",
        "print(clustering['clusters'])\n",
        "print('SSE: ',sse(clustering['clusters'],clustering['centroids']))"
      ],
      "execution_count": 171,
      "outputs": [
        {
          "output_type": "stream",
          "text": [
            "ITERATIONS:  1\n",
            "CENTROID0\t2.50 5.00 \n",
            "CENTROID1\t6.83 4.00 \n",
            "[[[3, 5], [3, 4], [2, 8], [2, 3]], [[6, 2], [6, 4], [7, 3], [7, 4], [8, 5], [7, 6]]]\n",
            "SSE:  27.833333333333332\n"
          ],
          "name": "stdout"
        }
      ]
    },
    {
      "cell_type": "markdown",
      "metadata": {
        "id": "5mQ2P8cAs4ct"
      },
      "source": [
        "**ANSWER 4:**"
      ]
    },
    {
      "cell_type": "code",
      "metadata": {
        "id": "r7BRiLT9auoS",
        "colab": {
          "base_uri": "https://localhost:8080/"
        },
        "outputId": "0faa0576-2fda-4857-e887-03f53b5991fc"
      },
      "source": [
        "clustering = kmeans(dataset_f, 2, manhatten,labels, True, initCentroids=[[3,2],[4,8]])\n",
        "printTable(clustering[\"centroids\"])\n",
        "print(clustering['clusters'])\n",
        "print('SSE: ',sse(clustering['clusters'],clustering['centroids']))"
      ],
      "execution_count": 172,
      "outputs": [
        {
          "output_type": "stream",
          "text": [
            "ITERATIONS:  1\n",
            "CENTROID0\t4.86 3.57 \n",
            "CENTROID1\t5.67 6.33 \n",
            "[[[3, 5], [3, 4], [2, 3], [6, 2], [6, 4], [7, 3], [7, 4]], [[2, 8], [8, 5], [7, 6]]]\n",
            "SSE:  57.904761904761905\n"
          ],
          "name": "stdout"
        }
      ]
    }
  ]
}