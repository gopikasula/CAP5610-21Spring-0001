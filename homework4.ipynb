{
  "nbformat": 4,
  "nbformat_minor": 0,
  "metadata": {
    "colab": {
      "name": "homework4.ipynb",
      "provenance": []
    },
    "kernelspec": {
      "name": "python3",
      "display_name": "Python 3"
    }
  },
  "cells": [
    {
      "cell_type": "markdown",
      "metadata": {
        "id": "C8-qjehLVkAJ"
      },
      "source": [
        "**TASK 1**"
      ]
    },
    {
      "cell_type": "code",
      "metadata": {
        "id": "ksv51a1aVruK"
      },
      "source": [
        "import pandas as pd\n",
        "import numpy as np\n",
        "from sklearn.preprocessing import normalize\n",
        "from sklearn import metrics\n",
        "import random\n",
        "import seaborn as sns\n",
        "from scipy import stats\n",
        "from copy import deepcopy\n",
        "from sklearn.cluster import KMeans\n",
        "from datetime import datetime\n",
        "import math\n",
        "import random\n",
        "import time\n",
        "from tkinter import *\n",
        "from statistics import mode \n",
        "import statistics \n",
        "from statistics import mode\n",
        "from sklearn.metrics.pairwise import cosine_similarity\n",
        "from sklearn.metrics import jaccard_score"
      ],
      "execution_count": 143,
      "outputs": []
    },
    {
      "cell_type": "code",
      "metadata": {
        "colab": {
          "resources": {
            "http://localhost:8080/nbextensions/google.colab/files.js": {
              "data": "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",
              "ok": true,
              "headers": [
                [
                  "content-type",
                  "application/javascript"
                ]
              ],
              "status": 200,
              "status_text": ""
            }
          },
          "base_uri": "https://localhost:8080/",
          "height": 74
        },
        "id": "Ii-ip8zYb_Ae",
        "outputId": "a225dd11-5412-44e4-81cf-c061b088214b"
      },
      "source": [
        "from google.colab import files\n",
        "data = files.upload()"
      ],
      "execution_count": null,
      "outputs": [
        {
          "output_type": "display_data",
          "data": {
            "text/html": [
              "\n",
              "     <input type=\"file\" id=\"files-37f4b707-e193-4902-8f59-228edabc75a9\" name=\"files[]\" multiple disabled\n",
              "        style=\"border:none\" />\n",
              "     <output id=\"result-37f4b707-e193-4902-8f59-228edabc75a9\">\n",
              "      Upload widget is only available when the cell has been executed in the\n",
              "      current browser session. Please rerun this cell to enable.\n",
              "      </output>\n",
              "      <script src=\"/nbextensions/google.colab/files.js\"></script> "
            ],
            "text/plain": [
              "<IPython.core.display.HTML object>"
            ]
          },
          "metadata": {
            "tags": []
          }
        },
        {
          "output_type": "stream",
          "text": [
            "Saving football (1).csv to football (1).csv\n"
          ],
          "name": "stdout"
        }
      ]
    },
    {
      "cell_type": "code",
      "metadata": {
        "colab": {
          "base_uri": "https://localhost:8080/",
          "height": 195
        },
        "id": "bzegDGkicD2E",
        "outputId": "834053c3-7678-42f4-d4bb-5f89a702da03"
      },
      "source": [
        "data = pd.read_csv('football.csv')\n",
        "data.head()"
      ],
      "execution_count": null,
      "outputs": [
        {
          "output_type": "execute_result",
          "data": {
            "text/html": [
              "<div>\n",
              "<style scoped>\n",
              "    .dataframe tbody tr th:only-of-type {\n",
              "        vertical-align: middle;\n",
              "    }\n",
              "\n",
              "    .dataframe tbody tr th {\n",
              "        vertical-align: top;\n",
              "    }\n",
              "\n",
              "    .dataframe thead th {\n",
              "        text-align: right;\n",
              "    }\n",
              "</style>\n",
              "<table border=\"1\" class=\"dataframe\">\n",
              "  <thead>\n",
              "    <tr style=\"text-align: right;\">\n",
              "      <th></th>\n",
              "      <th>Team</th>\n",
              "      <th>winsInSeason2016</th>\n",
              "      <th>winsInSeason2017</th>\n",
              "    </tr>\n",
              "  </thead>\n",
              "  <tbody>\n",
              "    <tr>\n",
              "      <th>0</th>\n",
              "      <td>X1</td>\n",
              "      <td>3</td>\n",
              "      <td>5</td>\n",
              "    </tr>\n",
              "    <tr>\n",
              "      <th>1</th>\n",
              "      <td>X2</td>\n",
              "      <td>3</td>\n",
              "      <td>4</td>\n",
              "    </tr>\n",
              "    <tr>\n",
              "      <th>2</th>\n",
              "      <td>X3</td>\n",
              "      <td>2</td>\n",
              "      <td>8</td>\n",
              "    </tr>\n",
              "    <tr>\n",
              "      <th>3</th>\n",
              "      <td>X4</td>\n",
              "      <td>2</td>\n",
              "      <td>3</td>\n",
              "    </tr>\n",
              "    <tr>\n",
              "      <th>4</th>\n",
              "      <td>X5</td>\n",
              "      <td>6</td>\n",
              "      <td>2</td>\n",
              "    </tr>\n",
              "  </tbody>\n",
              "</table>\n",
              "</div>"
            ],
            "text/plain": [
              "  Team  winsInSeason2016  winsInSeason2017\n",
              "0   X1                 3                 5\n",
              "1   X2                 3                 4\n",
              "2   X3                 2                 8\n",
              "3   X4                 2                 3\n",
              "4   X5                 6                 2"
            ]
          },
          "metadata": {
            "tags": []
          },
          "execution_count": 57
        }
      ]
    },
    {
      "cell_type": "code",
      "metadata": {
        "id": "X32eDiAJfiLN"
      },
      "source": [
        "def loadCSV(fileName):\n",
        "    fileHandler = open(fileName, \"rt\")\n",
        "    lines = fileHandler.readlines()\n",
        "    fileHandler.close()\n",
        "    del lines[0] # remove the header\n",
        "    dataset = []\n",
        "    for line in lines:\n",
        "        instance = lineToTuple(line)\n",
        "        dataset.append(instance)\n",
        "    return dataset"
      ],
      "execution_count": null,
      "outputs": []
    },
    {
      "cell_type": "code",
      "metadata": {
        "id": "tXGf2yXzfiLO"
      },
      "source": [
        "def lineToTuple(line):\n",
        "    # remove leading/trailing witespace and newlines\n",
        "    cleanLine = line.strip()\n",
        "    # get rid of quotes\n",
        "    cleanLine = cleanLine.replace('\"', '')\n",
        "    # separate the fields\n",
        "    lineList = cleanLine.split(\",\")\n",
        "    # convert strings into numbers\n",
        "    stringsToNumbers(lineList)\n",
        "    lineTuple = tuple(lineList)\n",
        "    return lineTuple"
      ],
      "execution_count": null,
      "outputs": []
    },
    {
      "cell_type": "code",
      "metadata": {
        "id": "v4ziJ04MfiLO"
      },
      "source": [
        "def stringsToNumbers(myList):\n",
        "    for i in range(len(myList)):\n",
        "        if (isValidNumberString(myList[i])):\n",
        "            myList[i] = float(myList[i])"
      ],
      "execution_count": null,
      "outputs": []
    },
    {
      "cell_type": "code",
      "metadata": {
        "id": "WKsl2ZgufiLO"
      },
      "source": [
        "def isValidNumberString(s):\n",
        "    if len(s) == 0:\n",
        "        return False\n",
        "    if  len(s) > 1 and s[0] == \"-\":\n",
        "        s = s[1:]\n",
        "    for c in s:\n",
        "        if c not in \"0123456789.\":\n",
        "            return False\n",
        "    return True"
      ],
      "execution_count": null,
      "outputs": []
    },
    {
      "cell_type": "code",
      "metadata": {
        "id": "J8x9TEB1fiLO"
      },
      "source": [
        "def distance(instance1, instance2):\n",
        "    if instance1 == None or instance2 == None:\n",
        "        return float(\"inf\")\n",
        "    sumOfSquares = 0\n",
        "    for i in range(0, len(instance1)-1):\n",
        "        sumOfSquares += (instance1[i+1] - instance2[i])**2\n",
        "    return sumOfSquares\n"
      ],
      "execution_count": null,
      "outputs": []
    },
    {
      "cell_type": "code",
      "metadata": {
        "id": "HcIPgIklfiLP"
      },
      "source": [
        "def meanInstance(name, instanceList):\n",
        "    numInstances = len(instanceList)\n",
        "    if (numInstances == 0):\n",
        "        return\n",
        "    numAttributes = len(instanceList[0])\n",
        "    means = [name] + [0] * (numAttributes)\n",
        "    for instance in instanceList:\n",
        "        for i in range(0, numAttributes):\n",
        "            means[i+1] += instance[i]\n",
        "   \n",
        "    for i in range(0, numAttributes):\n",
        "        means[i+1] /= float(numInstances)\n",
        "    return tuple(means)"
      ],
      "execution_count": null,
      "outputs": []
    },
    {
      "cell_type": "code",
      "metadata": {
        "id": "ZxCh7FfFfiLP"
      },
      "source": [
        "def assign(instance, centroids, dist):\n",
        "    minDistance = dist(centroids[0],instance)\n",
        "    minDistanceIndex = 0\n",
        "    for i in range(1, len(centroids)):\n",
        "        d = dist(centroids[i], instance )\n",
        "        if (d < minDistance):\n",
        "            minDistance = d\n",
        "            minDistanceIndex = i\n",
        "    return minDistanceIndex"
      ],
      "execution_count": null,
      "outputs": []
    },
    {
      "cell_type": "code",
      "metadata": {
        "id": "27lOVem_fiLP"
      },
      "source": [
        "def createEmptyListOfLists(numSubLists):\n",
        "    myList = []\n",
        "    for i in range(numSubLists):\n",
        "        myList.append([])\n",
        "    return myList"
      ],
      "execution_count": null,
      "outputs": []
    },
    {
      "cell_type": "code",
      "metadata": {
        "id": "47BYtIRHfiLP"
      },
      "source": [
        "def assignAll(instances, centroids, labels, dist):\n",
        "    clusters = createEmptyListOfLists(len(centroids))\n",
        "    classclusters = createEmptyListOfLists(len(centroids))\n",
        "    i=0\n",
        "    for instance in instances:\n",
        "        clusterIndex = assign(instance, centroids, dist)\n",
        "        clusters[clusterIndex].append(instance)\n",
        "        classclusters[clusterIndex].append(labels[i])\n",
        "        i=i+1\n",
        "    return clusters, classclusters"
      ],
      "execution_count": null,
      "outputs": []
    },
    {
      "cell_type": "code",
      "metadata": {
        "id": "jrR6Tot3fiLP"
      },
      "source": [
        "def computeCentroids(clusters):\n",
        "    centroids = []\n",
        "    for i in range(len(clusters)):\n",
        "        name = \"CENTROID\" + str(i)\n",
        "        centroid = meanInstance(name, clusters[i])\n",
        "        centroids.append(centroid)\n",
        "    return centroids"
      ],
      "execution_count": null,
      "outputs": []
    },
    {
      "cell_type": "code",
      "metadata": {
        "id": "ogfCsJkefiLP"
      },
      "source": [
        "def kmeans(instances, k, dist,labels, animation=False, initCentroids=None, oneIteration = False):\n",
        "    result = {}\n",
        "    if (initCentroids == None or len(initCentroids) < k):\n",
        "        random.seed(time.time())\n",
        "        centroids = random.sample(instances, k)\n",
        "    else:\n",
        "        centroids = initCentroids\n",
        "    prevCentroids = []\n",
        "    if animation:\n",
        "        delay = 1.0\n",
        "        clusters = createEmptyListOfLists(k)\n",
        "        clusters[0] = instances\n",
        "    iteration = 0\n",
        "    while (centroids != prevCentroids):\n",
        "        if iteration == 1 and oneIteration == True:\n",
        "          break\n",
        "        iteration += 1\n",
        "        clusters, votelabels = assignAll(instances, centroids, labels, dist)\n",
        "        prevCentroids = centroids\n",
        "        centroids = computeCentroids(clusters)\n",
        "        withinss = computeWithinss(clusters, centroids, dist)\n",
        "\n",
        "    print('ITERATIONS: ', iteration)\n",
        "    result[\"clusters\"] = clusters\n",
        "    result[\"centroids\"] = centroids\n",
        "    result[\"withinss\"] = withinss\n",
        "    result[\"labels\"] = votelabels\n",
        "    return result"
      ],
      "execution_count": null,
      "outputs": []
    },
    {
      "cell_type": "code",
      "metadata": {
        "id": "6r82LbHQfiLQ"
      },
      "source": [
        "def computeWithinss(clusters, centroids, dist):\n",
        "    result = 0\n",
        "    for i in range(len(centroids)):\n",
        "        centroid = centroids[i]\n",
        "        cluster = clusters[i]\n",
        "        for instance in cluster:\n",
        "            result += dist(centroid, instance)\n",
        "    return result\n"
      ],
      "execution_count": null,
      "outputs": []
    },
    {
      "cell_type": "code",
      "metadata": {
        "id": "2WFFV_4JfiLQ"
      },
      "source": [
        "def repeatedKMeans(instances, k, n):\n",
        "    bestClustering = {}\n",
        "    bestClustering[\"withinss\"] = float(\"inf\")\n",
        "    for i in range(1, n+1):\n",
        "        print (\"k-means trial %d,\" % i )\n",
        "        trialClustering = kmeans(instances, k)\n",
        "        print (\"withinss: %.1f\" % trialClustering[\"withinss\"])\n",
        "        if trialClustering[\"withinss\"] < bestClustering[\"withinss\"]:\n",
        "            bestClustering = trialClustering\n",
        "            minWithinssTrial = i\n",
        "    print(\"Trial with minimum withinss:\", minWithinssTrial)\n",
        "    return bestClustering\n"
      ],
      "execution_count": null,
      "outputs": []
    },
    {
      "cell_type": "code",
      "metadata": {
        "id": "mubllnBOTQp2"
      },
      "source": [
        "def printTable(instances):\n",
        "    for instance in instances:\n",
        "        if instance != None:\n",
        "            line = instance[0] + \"\\t\"\n",
        "            for i in range(1, len(instance)):\n",
        "                line += \"%.2f \" % instance[i]\n",
        "            print(line)\n"
      ],
      "execution_count": null,
      "outputs": []
    },
    {
      "cell_type": "code",
      "metadata": {
        "id": "BX2DuZiDjjxZ"
      },
      "source": [
        "def euclidean(centroid, data):\n",
        "    sum1=[]\n",
        "    if len(centroid) == len(data)+1:\n",
        "        centroid=centroid[1:]\n",
        "    for i in range (0, len(data)):\n",
        "        sum1.append((centroid[i]- data[i])**2)\n",
        "    \n",
        "    \n",
        "    euclidean= math.sqrt(sum(sum1))\n",
        "    return euclidean"
      ],
      "execution_count": null,
      "outputs": []
    },
    {
      "cell_type": "code",
      "metadata": {
        "id": "zJuxhN7yauoS"
      },
      "source": [
        "def manhatten(x,y):\n",
        "    res=[]\n",
        "    if len(x) == len(y)+1:\n",
        "        x=x[1:]\n",
        "    for i in range(len(x)):\n",
        "        res.append(abs(x[i]-y[i]))\n",
        "        \n",
        "    return sum(res) "
      ],
      "execution_count": null,
      "outputs": []
    },
    {
      "cell_type": "code",
      "metadata": {
        "id": "8LoyDOnWauoS"
      },
      "source": [
        "def sse(clustering, centroids):\n",
        "    i=0\n",
        "    SSE=0\n",
        "    for clust in clustering:\n",
        "        for data in clust:\n",
        "            SSE=SSE+distance(centroids[i], data)\n",
        "        i=i+1\n",
        "    return SSE"
      ],
      "execution_count": null,
      "outputs": []
    },
    {
      "cell_type": "code",
      "metadata": {
        "id": "SzkZ6o8BfiLT"
      },
      "source": [
        "labels =data.Team"
      ],
      "execution_count": null,
      "outputs": []
    },
    {
      "cell_type": "code",
      "metadata": {
        "id": "S106tcbyfiLT"
      },
      "source": [
        "data = data.drop(['Team'], axis=1)"
      ],
      "execution_count": null,
      "outputs": []
    },
    {
      "cell_type": "code",
      "metadata": {
        "id": "66g7-hRffiLT",
        "colab": {
          "base_uri": "https://localhost:8080/",
          "height": 343
        },
        "outputId": "d04bdd4e-3ec2-47dc-f84c-f1f0fc95d3e2"
      },
      "source": [
        "data"
      ],
      "execution_count": null,
      "outputs": [
        {
          "output_type": "execute_result",
          "data": {
            "text/html": [
              "<div>\n",
              "<style scoped>\n",
              "    .dataframe tbody tr th:only-of-type {\n",
              "        vertical-align: middle;\n",
              "    }\n",
              "\n",
              "    .dataframe tbody tr th {\n",
              "        vertical-align: top;\n",
              "    }\n",
              "\n",
              "    .dataframe thead th {\n",
              "        text-align: right;\n",
              "    }\n",
              "</style>\n",
              "<table border=\"1\" class=\"dataframe\">\n",
              "  <thead>\n",
              "    <tr style=\"text-align: right;\">\n",
              "      <th></th>\n",
              "      <th>winsInSeason2016</th>\n",
              "      <th>winsInSeason2017</th>\n",
              "    </tr>\n",
              "  </thead>\n",
              "  <tbody>\n",
              "    <tr>\n",
              "      <th>0</th>\n",
              "      <td>3</td>\n",
              "      <td>5</td>\n",
              "    </tr>\n",
              "    <tr>\n",
              "      <th>1</th>\n",
              "      <td>3</td>\n",
              "      <td>4</td>\n",
              "    </tr>\n",
              "    <tr>\n",
              "      <th>2</th>\n",
              "      <td>2</td>\n",
              "      <td>8</td>\n",
              "    </tr>\n",
              "    <tr>\n",
              "      <th>3</th>\n",
              "      <td>2</td>\n",
              "      <td>3</td>\n",
              "    </tr>\n",
              "    <tr>\n",
              "      <th>4</th>\n",
              "      <td>6</td>\n",
              "      <td>2</td>\n",
              "    </tr>\n",
              "    <tr>\n",
              "      <th>5</th>\n",
              "      <td>6</td>\n",
              "      <td>4</td>\n",
              "    </tr>\n",
              "    <tr>\n",
              "      <th>6</th>\n",
              "      <td>7</td>\n",
              "      <td>3</td>\n",
              "    </tr>\n",
              "    <tr>\n",
              "      <th>7</th>\n",
              "      <td>7</td>\n",
              "      <td>4</td>\n",
              "    </tr>\n",
              "    <tr>\n",
              "      <th>8</th>\n",
              "      <td>8</td>\n",
              "      <td>5</td>\n",
              "    </tr>\n",
              "    <tr>\n",
              "      <th>9</th>\n",
              "      <td>7</td>\n",
              "      <td>6</td>\n",
              "    </tr>\n",
              "  </tbody>\n",
              "</table>\n",
              "</div>"
            ],
            "text/plain": [
              "   winsInSeason2016  winsInSeason2017\n",
              "0                 3                 5\n",
              "1                 3                 4\n",
              "2                 2                 8\n",
              "3                 2                 3\n",
              "4                 6                 2\n",
              "5                 6                 4\n",
              "6                 7                 3\n",
              "7                 7                 4\n",
              "8                 8                 5\n",
              "9                 7                 6"
            ]
          },
          "metadata": {
            "tags": []
          },
          "execution_count": 77
        }
      ]
    },
    {
      "cell_type": "code",
      "metadata": {
        "id": "-ai4CbPdfiLU"
      },
      "source": [
        "a = np.array([[4, 6], [5, 4]])"
      ],
      "execution_count": null,
      "outputs": []
    },
    {
      "cell_type": "code",
      "metadata": {
        "id": "zxA2k64WfiLU"
      },
      "source": [
        "dataset = data.values.tolist()"
      ],
      "execution_count": null,
      "outputs": []
    },
    {
      "cell_type": "code",
      "metadata": {
        "id": "s8lIvwqwfiLU"
      },
      "source": [
        "x = data.winsInSeason2016\n",
        "y = data.winsInSeason2017"
      ],
      "execution_count": null,
      "outputs": []
    },
    {
      "cell_type": "markdown",
      "metadata": {
        "id": "L-Z9DYj6snJa"
      },
      "source": [
        "**ANSWER : 1**"
      ]
    },
    {
      "cell_type": "code",
      "metadata": {
        "id": "zL0HybfBauoS",
        "colab": {
          "base_uri": "https://localhost:8080/"
        },
        "outputId": "39cae170-8645-49da-95fe-7981e8bb30db"
      },
      "source": [
        "cts = kmeans(dataset, 2, manhatten,labels, True, initCentroids=[[4,6],[5,4]], oneIteration = True)\n",
        "printTable(cts[\"centroids\"])\n",
        "print(cts['clusters'])\n",
        "print('SSE: ',sse(cts['clusters'],cts['centroids']))"
      ],
      "execution_count": null,
      "outputs": [
        {
          "output_type": "stream",
          "text": [
            "ITERATIONS:  1\n",
            "CENTROID0\t4.00 6.33 \n",
            "CENTROID1\t5.57 3.57 \n",
            "[[[3, 5], [2, 8], [7, 6]], [[3, 4], [2, 3], [6, 2], [6, 4], [7, 3], [7, 4], [8, 5]]]\n",
            "SSE:  54.09523809523809\n"
          ],
          "name": "stdout"
        }
      ]
    },
    {
      "cell_type": "markdown",
      "metadata": {
        "id": "Qm8lZnW6swUx"
      },
      "source": [
        "**ANSWER : 2**"
      ]
    },
    {
      "cell_type": "code",
      "metadata": {
        "id": "MX7zCtH2auoS",
        "colab": {
          "base_uri": "https://localhost:8080/"
        },
        "outputId": "335de97e-abec-4539-a208-d2607789407a"
      },
      "source": [
        "cts = kmeans(dataset, 2, euclidean,labels, True, initCentroids=[[4,6],[5,4]], oneIteration = True)\n",
        "printTable(cts[\"centroids\"])\n",
        "print(cts['clusters'])\n",
        "print('SSE: ',sse(cts['clusters'],cts['centroids']))"
      ],
      "execution_count": null,
      "outputs": [
        {
          "output_type": "stream",
          "text": [
            "ITERATIONS:  1\n",
            "CENTROID0\t2.50 6.50 \n",
            "CENTROID1\t5.75 3.88 \n",
            "[[[3, 5], [2, 8]], [[3, 4], [2, 3], [6, 2], [6, 4], [7, 3], [7, 4], [8, 5], [7, 6]]]\n",
            "SSE:  47.375\n"
          ],
          "name": "stdout"
        }
      ]
    },
    {
      "cell_type": "markdown",
      "metadata": {
        "id": "6ZviZxkbs0gt"
      },
      "source": [
        "**ANSWER : 3**"
      ]
    },
    {
      "cell_type": "code",
      "metadata": {
        "id": "dFMQFQZAauoS",
        "colab": {
          "base_uri": "https://localhost:8080/"
        },
        "outputId": "274809a1-0f0c-46ab-c692-c358133aa4ae"
      },
      "source": [
        "cts = kmeans(dataset, 2, manhatten,labels, True, initCentroids=[[3,3],[8,3]], oneIteration = True)\n",
        "printTable(cts[\"centroids\"])\n",
        "print(cts['clusters'])\n",
        "print('SSE: ',sse(cts['clusters'],cts['centroids']))"
      ],
      "execution_count": null,
      "outputs": [
        {
          "output_type": "stream",
          "text": [
            "ITERATIONS:  1\n",
            "CENTROID0\t2.50 5.00 \n",
            "CENTROID1\t6.83 4.00 \n",
            "[[[3, 5], [3, 4], [2, 8], [2, 3]], [[6, 2], [6, 4], [7, 3], [7, 4], [8, 5], [7, 6]]]\n",
            "SSE:  27.833333333333332\n"
          ],
          "name": "stdout"
        }
      ]
    },
    {
      "cell_type": "markdown",
      "metadata": {
        "id": "5mQ2P8cAs4ct"
      },
      "source": [
        "**ANSWER 4:**"
      ]
    },
    {
      "cell_type": "code",
      "metadata": {
        "id": "r7BRiLT9auoS",
        "colab": {
          "base_uri": "https://localhost:8080/"
        },
        "outputId": "b9c9f066-7275-4c21-f51b-7c53388ba2b4"
      },
      "source": [
        "cts = kmeans(dataset, 2, manhatten,labels, True, initCentroids=[[3,2],[4,8]], oneIteration = True)\n",
        "printTable(cts[\"centroids\"])\n",
        "print(clustering['clusters'])\n",
        "print('SSE: ',sse(cts['clusters'],cts['centroids']))"
      ],
      "execution_count": null,
      "outputs": [
        {
          "output_type": "stream",
          "text": [
            "ITERATIONS:  1\n",
            "CENTROID0\t4.86 3.57 \n",
            "CENTROID1\t5.67 6.33 \n",
            "[[[3, 5], [3, 4], [2, 3], [6, 2], [6, 4], [7, 3], [7, 4]], [[2, 8], [8, 5], [7, 6]]]\n",
            "SSE:  57.904761904761905\n"
          ],
          "name": "stdout"
        }
      ]
    },
    {
      "cell_type": "markdown",
      "metadata": {
        "id": "MhakJBULv6QI"
      },
      "source": [
        "**TASK 2**"
      ]
    },
    {
      "cell_type": "code",
      "metadata": {
        "id": "amDyV-IBTQKO"
      },
      "source": [
        "\n",
        "def kmeans_SSE(inst, k, dist,lab, animation=False, initCentroids=None):\n",
        "    res = {}\n",
        "    if (initCentroids == None or len(initCentroids) < k):\n",
        "        # randomly select k initial centroids\n",
        "        random.seed(time.time())\n",
        "        centroids = random.sample(inst, k)\n",
        "    else:\n",
        "        centroids = initCentroids\n",
        "    pCentroids = [] \n",
        "    newsse= 99999 \n",
        "    prevsse=1000000 \n",
        "    if animation:\n",
        "        delay = 1.0 \n",
        "        clusters = createEmptyListOfLists(k)\n",
        "        clusters[0] = inst\n",
        "\n",
        "    i = 0\n",
        "    while (new_sse < old_sse):\n",
        "        i += 1\n",
        "        clusters, votelabels = assignAll(inst, centroids, lab, dist)\n",
        "        old_sse = new_sse\n",
        "        centroids = computeCentroids(clusters)\n",
        "        new_sse = sse(clusters, centroids)\n",
        "        withinss = computeWithinss(clusters, centroids, dist)\n",
        "\n",
        "    print('Number of iterations are ', i)\n",
        "    print('prev sse', old_sse)\n",
        "    print('new sse', new_sse)\n",
        "    res[\"clusters\"] = clusters\n",
        "    res[\"centroids\"] = centroids\n",
        "    res[\"withinss\"] = withinss\n",
        "    res[\"labels\"] = votelabels\n",
        "    return res"
      ],
      "execution_count": 128,
      "outputs": []
    },
    {
      "cell_type": "code",
      "metadata": {
        "id": "vaQ-9WMyTQKP"
      },
      "source": [
        "def kmeans_for_hundred(inst, k, dist,lab, animation=False, initCentroids=None):\n",
        "    result = {}\n",
        "    if (initCentroids == None or len(initCentroids) < k):\n",
        "        random.seed(time.time())\n",
        "        centroids = random.sample(inst, k)\n",
        "    else:\n",
        "        centroids = initCentroids\n",
        "    pCentroids = []\n",
        "    if animation:\n",
        "        delay = 1.0\n",
        "        clusters = createEmptyListOfLists(k)\n",
        "        clusters[0] = inst\n",
        "      \n",
        "    i = 0\n",
        "    while (i<100):\n",
        "        i +=1\n",
        "        clusters, votelabels = assignAll(inst, centroids, lab, dist)\n",
        "       \n",
        "        pCentroids = centroids\n",
        "        centroids = computeCentroids(clusters)\n",
        "        withinss = computeWithinss(clusters, centroids, dist)\n",
        "\n",
        "    print('Number of iterations are ', i)\n",
        "    result[\"clusters\"] = clusters\n",
        "    result[\"centroids\"] = centroids\n",
        "    result[\"withinss\"] = withinss\n",
        "    result[\"labels\"] = votelabels\n",
        "    return result\n"
      ],
      "execution_count": 164,
      "outputs": []
    },
    {
      "cell_type": "code",
      "metadata": {
        "colab": {
          "resources": {
            "http://localhost:8080/nbextensions/google.colab/files.js": {
              "data": "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",
              "ok": true,
              "headers": [
                [
                  "content-type",
                  "application/javascript"
                ]
              ],
              "status": 200,
              "status_text": ""
            }
          },
          "base_uri": "https://localhost:8080/",
          "height": 74
        },
        "id": "s5d50-YlHjdZ",
        "outputId": "a7c0f964-15c9-45c7-dc08-35e8a14a4d0c"
      },
      "source": [
        "from google.colab import files\n",
        "data = files.upload()"
      ],
      "execution_count": null,
      "outputs": [
        {
          "output_type": "display_data",
          "data": {
            "text/html": [
              "\n",
              "     <input type=\"file\" id=\"files-45e1486e-8876-4120-b370-61e020d4438a\" name=\"files[]\" multiple disabled\n",
              "        style=\"border:none\" />\n",
              "     <output id=\"result-45e1486e-8876-4120-b370-61e020d4438a\">\n",
              "      Upload widget is only available when the cell has been executed in the\n",
              "      current browser session. Please rerun this cell to enable.\n",
              "      </output>\n",
              "      <script src=\"/nbextensions/google.colab/files.js\"></script> "
            ],
            "text/plain": [
              "<IPython.core.display.HTML object>"
            ]
          },
          "metadata": {
            "tags": []
          }
        },
        {
          "output_type": "stream",
          "text": [
            "Saving iris.csv to iris.csv\n"
          ],
          "name": "stdout"
        }
      ]
    },
    {
      "cell_type": "code",
      "metadata": {
        "id": "XBtGLIs4J8Kt"
      },
      "source": [
        "def cosine(centroid, data):\n",
        "    if len(centroid) == 5:\n",
        "        centroid = centroid[1:]\n",
        "    x1 = centroid\n",
        "    x1 = np.array(x1)\n",
        "    x1 = x1.reshape(1,-1)\n",
        "    y1 = np.array(data)\n",
        "    y1 = y1.reshape(1,-1)\n",
        "\n",
        "    ans = cosine_similarity(x1,y1)\n",
        "    return 1-ans[0][0]"
      ],
      "execution_count": 111,
      "outputs": []
    },
    {
      "cell_type": "code",
      "metadata": {
        "id": "ak8GXgK8TQKL"
      },
      "source": [
        "def accuracy(clustering):\n",
        "    correctpred = 0\n",
        "    for c in clustering['labels']:\n",
        "        for label in c:\n",
        "            if label == mode(c):\n",
        "                correctpred+=1\n",
        "    return correctpred/150"
      ],
      "execution_count": 117,
      "outputs": []
    },
    {
      "cell_type": "code",
      "metadata": {
        "id": "eq2cqVlrTQKN"
      },
      "source": [
        "def jaccard(centroid, data):\n",
        "    jac_sum_num=[]\n",
        "    jac_sum_den = []\n",
        "    if len(centroid) == 5:\n",
        "        centroid = centroid[1:]\n",
        "    for i in range(len(data)):\n",
        "        jac_sum_num.append(min(centroid[i],data[i]))\n",
        "        jac_sum_den.append(max(centroid[i],data[i]))\n",
        "    return 1-(sum(jac_sum_num)/sum(jac_sum_den))"
      ],
      "execution_count": 120,
      "outputs": []
    },
    {
      "cell_type": "code",
      "metadata": {
        "id": "SPHIsTH8TQKR"
      },
      "source": [
        "names = [\n",
        "  'sepal_length',\n",
        "  'sepal_width',\n",
        "  'petal_length',\n",
        "  'petal_width',\n",
        "  'class',\n",
        "]"
      ],
      "execution_count": 96,
      "outputs": []
    },
    {
      "cell_type": "code",
      "metadata": {
        "colab": {
          "base_uri": "https://localhost:8080/",
          "height": 402
        },
        "id": "QMPvGKKcIgtk",
        "outputId": "c082d651-bb75-46fd-b5c8-303047004c46"
      },
      "source": [
        "df = pd.read_csv('iris.csv', header=None, names=names) \n",
        "df"
      ],
      "execution_count": 98,
      "outputs": [
        {
          "output_type": "execute_result",
          "data": {
            "text/html": [
              "<div>\n",
              "<style scoped>\n",
              "    .dataframe tbody tr th:only-of-type {\n",
              "        vertical-align: middle;\n",
              "    }\n",
              "\n",
              "    .dataframe tbody tr th {\n",
              "        vertical-align: top;\n",
              "    }\n",
              "\n",
              "    .dataframe thead th {\n",
              "        text-align: right;\n",
              "    }\n",
              "</style>\n",
              "<table border=\"1\" class=\"dataframe\">\n",
              "  <thead>\n",
              "    <tr style=\"text-align: right;\">\n",
              "      <th></th>\n",
              "      <th>sepal_length</th>\n",
              "      <th>sepal_width</th>\n",
              "      <th>petal_length</th>\n",
              "      <th>petal_width</th>\n",
              "      <th>class</th>\n",
              "    </tr>\n",
              "  </thead>\n",
              "  <tbody>\n",
              "    <tr>\n",
              "      <th>0</th>\n",
              "      <td>sepal.length</td>\n",
              "      <td>sepal.width</td>\n",
              "      <td>petal.length</td>\n",
              "      <td>petal.width</td>\n",
              "      <td>variety</td>\n",
              "    </tr>\n",
              "    <tr>\n",
              "      <th>1</th>\n",
              "      <td>5.1</td>\n",
              "      <td>3.5</td>\n",
              "      <td>1.4</td>\n",
              "      <td>0.2</td>\n",
              "      <td>Setosa</td>\n",
              "    </tr>\n",
              "    <tr>\n",
              "      <th>2</th>\n",
              "      <td>4.9</td>\n",
              "      <td>3</td>\n",
              "      <td>1.4</td>\n",
              "      <td>0.2</td>\n",
              "      <td>Setosa</td>\n",
              "    </tr>\n",
              "    <tr>\n",
              "      <th>3</th>\n",
              "      <td>4.7</td>\n",
              "      <td>3.2</td>\n",
              "      <td>1.3</td>\n",
              "      <td>0.2</td>\n",
              "      <td>Setosa</td>\n",
              "    </tr>\n",
              "    <tr>\n",
              "      <th>4</th>\n",
              "      <td>4.6</td>\n",
              "      <td>3.1</td>\n",
              "      <td>1.5</td>\n",
              "      <td>0.2</td>\n",
              "      <td>Setosa</td>\n",
              "    </tr>\n",
              "    <tr>\n",
              "      <th>...</th>\n",
              "      <td>...</td>\n",
              "      <td>...</td>\n",
              "      <td>...</td>\n",
              "      <td>...</td>\n",
              "      <td>...</td>\n",
              "    </tr>\n",
              "    <tr>\n",
              "      <th>146</th>\n",
              "      <td>6.7</td>\n",
              "      <td>3</td>\n",
              "      <td>5.2</td>\n",
              "      <td>2.3</td>\n",
              "      <td>Virginica</td>\n",
              "    </tr>\n",
              "    <tr>\n",
              "      <th>147</th>\n",
              "      <td>6.3</td>\n",
              "      <td>2.5</td>\n",
              "      <td>5</td>\n",
              "      <td>1.9</td>\n",
              "      <td>Virginica</td>\n",
              "    </tr>\n",
              "    <tr>\n",
              "      <th>148</th>\n",
              "      <td>6.5</td>\n",
              "      <td>3</td>\n",
              "      <td>5.2</td>\n",
              "      <td>2</td>\n",
              "      <td>Virginica</td>\n",
              "    </tr>\n",
              "    <tr>\n",
              "      <th>149</th>\n",
              "      <td>6.2</td>\n",
              "      <td>3.4</td>\n",
              "      <td>5.4</td>\n",
              "      <td>2.3</td>\n",
              "      <td>Virginica</td>\n",
              "    </tr>\n",
              "    <tr>\n",
              "      <th>150</th>\n",
              "      <td>5.9</td>\n",
              "      <td>3</td>\n",
              "      <td>5.1</td>\n",
              "      <td>1.8</td>\n",
              "      <td>Virginica</td>\n",
              "    </tr>\n",
              "  </tbody>\n",
              "</table>\n",
              "<p>151 rows × 5 columns</p>\n",
              "</div>"
            ],
            "text/plain": [
              "     sepal_length  sepal_width  petal_length  petal_width      class\n",
              "0    sepal.length  sepal.width  petal.length  petal.width    variety\n",
              "1             5.1          3.5           1.4          0.2     Setosa\n",
              "2             4.9            3           1.4          0.2     Setosa\n",
              "3             4.7          3.2           1.3          0.2     Setosa\n",
              "4             4.6          3.1           1.5          0.2     Setosa\n",
              "..            ...          ...           ...          ...        ...\n",
              "146           6.7            3           5.2          2.3  Virginica\n",
              "147           6.3          2.5             5          1.9  Virginica\n",
              "148           6.5            3           5.2            2  Virginica\n",
              "149           6.2          3.4           5.4          2.3  Virginica\n",
              "150           5.9            3           5.1          1.8  Virginica\n",
              "\n",
              "[151 rows x 5 columns]"
            ]
          },
          "metadata": {
            "tags": []
          },
          "execution_count": 98
        }
      ]
    },
    {
      "cell_type": "code",
      "metadata": {
        "id": "rPHTYBrOIvmN"
      },
      "source": [
        "labels = df['class'].values.tolist()"
      ],
      "execution_count": 99,
      "outputs": []
    },
    {
      "cell_type": "code",
      "metadata": {
        "id": "5WexN2_VI-oG"
      },
      "source": [
        "df.dropna()\n",
        "data = df.drop(['class'], axis=1)"
      ],
      "execution_count": 153,
      "outputs": []
    },
    {
      "cell_type": "code",
      "metadata": {
        "id": "XQDolOvxTQKU"
      },
      "source": [
        "dataset = data.values.tolist()\n",
        "dataset = dataset[1:]"
      ],
      "execution_count": 154,
      "outputs": []
    },
    {
      "cell_type": "code",
      "metadata": {
        "id": "Fsy-JyH_TQKU"
      },
      "source": [
        "dataset = [[float(x) for x in i] for i in dataset]"
      ],
      "execution_count": 155,
      "outputs": []
    },
    {
      "cell_type": "markdown",
      "metadata": {
        "id": "Y1y4KdhKJsr8"
      },
      "source": [
        ""
      ]
    },
    {
      "cell_type": "code",
      "metadata": {
        "id": "-69wYvkFTQKU",
        "colab": {
          "base_uri": "https://localhost:8080/"
        },
        "outputId": "bf227230-b6de-4e7f-9c24-153997521a2a"
      },
      "source": [
        "cts = kmeans(dataset, 3, cosine,labels, True)\n",
        "printTable(cts[\"centroids\"])\n",
        "print('SSE is ',sse(cts['clusters'],cts['centroids']))\n",
        "print(\"Accuracy is \",accuracy(cts))"
      ],
      "execution_count": 144,
      "outputs": [
        {
          "output_type": "stream",
          "text": [
            "ITERATIONS:  5\n",
            "CENTROID0\t5.01 3.43 1.46 0.25 \n",
            "CENTROID1\t6.54 2.96 5.50 1.99 \n",
            "CENTROID2\t5.94 2.76 4.21 1.30 \n",
            "SSE is  91.98930917874394\n",
            "Accuracy is  0.9533333333333334\n"
          ],
          "name": "stdout"
        }
      ]
    },
    {
      "cell_type": "code",
      "metadata": {
        "id": "asmXCfkhTQKV",
        "colab": {
          "base_uri": "https://localhost:8080/"
        },
        "outputId": "1f239db7-49e7-4847-9546-2ce88d8842b3"
      },
      "source": [
        "cts = kmeans(dataset, 3, jaccard,labels, True)\n",
        "printTable(cts[\"centroids\"])\n",
        "print('SSE:  ',sse(cts['clusters'],cts['centroids']))\n",
        "print(\"Accuracy:  \",accuracy(cts))"
      ],
      "execution_count": 145,
      "outputs": [
        {
          "output_type": "stream",
          "text": [
            "ITERATIONS:  7\n",
            "CENTROID0\t5.89 2.74 4.41 1.43 \n",
            "CENTROID1\t5.01 3.43 1.46 0.25 \n",
            "CENTROID2\t6.87 3.09 5.72 2.07 \n",
            "SSE is  79.09734974533107\n",
            "Accuracy is  0.8666666666666667\n"
          ],
          "name": "stdout"
        }
      ]
    },
    {
      "cell_type": "code",
      "metadata": {
        "id": "DqRt4K5QTQKV",
        "colab": {
          "base_uri": "https://localhost:8080/"
        },
        "outputId": "b017f16e-7e3e-48c8-f50c-cee310de6220"
      },
      "source": [
        "cts = kmeans(dataset, 3, euclidean,labels, True)\n",
        "printTable(cts[\"centroids\"])\n",
        "print('SSE: ',sse(cts['clusters'],cts['centroids']))\n",
        "print(\"Accuracy: \",accuracy(cts))"
      ],
      "execution_count": 156,
      "outputs": [
        {
          "output_type": "stream",
          "text": [
            "ITERATIONS:  5\n",
            "CENTROID0\t5.90 2.75 4.39 1.43 \n",
            "CENTROID1\t5.01 3.43 1.46 0.25 \n",
            "CENTROID2\t6.85 3.07 5.74 2.07 \n",
            "SSE is  78.85144142614598\n",
            "Accuracy is  0.8733333333333333\n"
          ],
          "name": "stdout"
        }
      ]
    },
    {
      "cell_type": "code",
      "metadata": {
        "id": "_v5yeJPTTQKW",
        "colab": {
          "base_uri": "https://localhost:8080/"
        },
        "outputId": "4389251a-a1a5-40b6-e907-e74f9cff641f"
      },
      "source": [
        "t1 = datetime.now()\n",
        "cts = kmeans_SSE(dataset, 3, cosine,labels, True)\n",
        "t2 = datetime.now()\n",
        "printTable(cts[\"centroids\"])\n",
        "print(\"Time Taken: \", t2 - t1)\n",
        "print('SSE:  ',sse(cts['clusters'],cts['centroids']))\n",
        "print(\"Accuracy: \",accuracy(cts))"
      ],
      "execution_count": 157,
      "outputs": [
        {
          "output_type": "stream",
          "text": [
            "Number of iterations are  6\n",
            "prev sse 91.98930917874401\n",
            "new sse 91.98930917874401\n",
            "CENTROID0\t5.94 2.76 4.21 1.30 \n",
            "CENTROID1\t6.54 2.96 5.50 1.99 \n",
            "CENTROID2\t5.01 3.43 1.46 0.25 \n",
            "Time Taken:  0:00:00.731479\n",
            "SSE:   91.98930917874401\n",
            "Accuracy:  0.9533333333333334\n"
          ],
          "name": "stdout"
        }
      ]
    },
    {
      "cell_type": "code",
      "metadata": {
        "id": "8R9y8nVaTQKW",
        "colab": {
          "base_uri": "https://localhost:8080/"
        },
        "outputId": "86bf368c-e1c5-4f12-f154-2f6e6f528c18"
      },
      "source": [
        "t1 = datetime.now()\n",
        "cts = kmeans_SSE(dataset, 3, jaccard,labels, True)\n",
        "t2 = datetime.now()\n",
        "printTable(cts[\"centroids\"])\n",
        "print(\"Time Taken: \", t2 - t1)\n",
        "print('SSE: ',sse(cts['clusters'],cts['centroids']))\n",
        "print(\"Accuracy: \",accuracy(cts))"
      ],
      "execution_count": 158,
      "outputs": [
        {
          "output_type": "stream",
          "text": [
            "Number of iterations are  3\n",
            "prev sse 145.9620085034013\n",
            "new sse 147.85507308377896\n",
            "CENTROID0\t6.26 2.87 4.91 1.68 \n",
            "CENTROID1\t5.37 3.80 1.52 0.28 \n",
            "CENTROID2\t4.82 3.24 1.43 0.23 \n",
            "Time Taken:  0:00:00.014644\n",
            "SSE:  147.85507308377896\n",
            "Accuracy:  0.66\n"
          ],
          "name": "stdout"
        }
      ]
    },
    {
      "cell_type": "code",
      "metadata": {
        "id": "PsGpLwqoTQKW",
        "colab": {
          "base_uri": "https://localhost:8080/"
        },
        "outputId": "45ea6f5f-6200-4f9e-e666-be995f9f4914"
      },
      "source": [
        "t1 = datetime.now()\n",
        "cts = kmeans_SSE(dataset, 3, euclidean,labels, True)\n",
        "t2 = datetime.now()\n",
        "printTable(cts[\"centroids\"])\n",
        "print(\"Time Taken: \", t2 - t1)\n",
        "print('SSE: ',sse(cts['clusters'],cts['centroids']))\n",
        "print(\"Accuracy: \",accuracy(cts))"
      ],
      "execution_count": 159,
      "outputs": [
        {
          "output_type": "stream",
          "text": [
            "Number of iterations are  8\n",
            "prev sse 78.85144142614602\n",
            "new sse 78.85144142614602\n",
            "CENTROID0\t6.85 3.07 5.74 2.07 \n",
            "CENTROID1\t5.01 3.43 1.46 0.25 \n",
            "CENTROID2\t5.90 2.75 4.39 1.43 \n",
            "Time Taken:  0:00:00.021944\n",
            "SSE:  78.85144142614602\n",
            "Accuracy:  0.8733333333333333\n"
          ],
          "name": "stdout"
        }
      ]
    },
    {
      "cell_type": "code",
      "metadata": {
        "id": "14JXtPsCTQKX",
        "colab": {
          "base_uri": "https://localhost:8080/"
        },
        "outputId": "8e3d5c94-751b-4627-e087-8f6b894bc901"
      },
      "source": [
        "t1 = datetime.now()\n",
        "cts = kmeans_for_hundred(dataset, 3, cosine,labels, True)\n",
        "t2 = datetime.now()\n",
        "printTable(cts[\"centroids\"])\n",
        "print(\"Time Taken: \", t2 - t1)\n",
        "print('SSE: ',sse(cts['clusters'],cts['centroids']))\n",
        "print(\"Accuracy: \",accuracy(cts))"
      ],
      "execution_count": 165,
      "outputs": [
        {
          "output_type": "stream",
          "text": [
            "Number of iterations are  100\n",
            "CENTROID0\t5.05 3.65 1.43 0.26 \n",
            "CENTROID1\t6.26 2.87 4.91 1.68 \n",
            "CENTROID2\t4.96 3.21 1.50 0.23 \n",
            "Time Taken: 0:00:11.632230\n",
            "SSE:  152.37120000000004\n",
            "Accuracy:  0.66\n"
          ],
          "name": "stdout"
        }
      ]
    },
    {
      "cell_type": "code",
      "metadata": {
        "id": "Ua6Kk-uETQKX",
        "colab": {
          "base_uri": "https://localhost:8080/"
        },
        "outputId": "fc848fd0-68ca-4920-9acb-19b8df83f0b6"
      },
      "source": [
        "t1 = datetime.now()\n",
        "cts = kmeans_100(dataset, 3, jaccard,labels, True)\n",
        "t2 = datetime.now()\n",
        "printTable(cts[\"centroids\"])\n",
        "print(\"Time Taken: \", t2 - t1)\n",
        "print('SSE:',sse(cts['clusters'],cts['centroids']))\n",
        "print(\"Accuracy:\",accuracy(cts))"
      ],
      "execution_count": 161,
      "outputs": [
        {
          "output_type": "stream",
          "text": [
            "Number of iterations are  100\n",
            "CENTROID0\t5.89 2.74 4.41 1.43 \n",
            "CENTROID1\t5.01 3.43 1.46 0.25 \n",
            "CENTROID2\t6.87 3.09 5.72 2.07 \n",
            "Time Taken:  0:00:00.236571\n",
            "SSE: 79.09734974533107\n",
            "Accuracy: 0.8666666666666667\n"
          ],
          "name": "stdout"
        }
      ]
    },
    {
      "cell_type": "code",
      "metadata": {
        "id": "8rBHgks_TQKX",
        "colab": {
          "base_uri": "https://localhost:8080/"
        },
        "outputId": "0e01da94-5aae-4eba-8f49-9ae919d0aef6"
      },
      "source": [
        "t1 = datetime.now()\n",
        "cts = kmeans_for_hundred(dataset, 3, euclidean,labels, True)\n",
        "t2 = datetime.now()\n",
        "printTable(cts[\"centroids\"])\n",
        "print(\"Time Taken: \", t2 - t1)\n",
        "print('SSE:',sse(cts['clusters'],cts['centroids']))\n",
        "print(\"Accuracy: \",accuracy(cts))"
      ],
      "execution_count": 166,
      "outputs": [
        {
          "output_type": "stream",
          "text": [
            "Number of iterations are  100\n",
            "CENTROID0\t5.01 3.43 1.46 0.25 \n",
            "CENTROID1\t5.88 2.74 4.39 1.43 \n",
            "CENTROID2\t6.85 3.08 5.72 2.05 \n",
            "Time Taken:  0:00:00.133000\n",
            "SSE: 78.85566582597723\n",
            "Accuracy:  0.8733333333333333\n"
          ],
          "name": "stdout"
        }
      ]
    }
  ]
}