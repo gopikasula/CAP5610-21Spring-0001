{
  "nbformat": 4,
  "nbformat_minor": 0,
  "metadata": {
    "colab": {
      "name": "HomeWork3.ipynb",
      "provenance": []
    },
    "kernelspec": {
      "name": "python3",
      "display_name": "Python 3"
    }
  },
  "cells": [
    {
      "cell_type": "code",
      "metadata": {
        "id": "Oa2sHdHWjC7e"
      },
      "source": [
        "import pandas as pd\r\n",
        "import numpy as np\r\n",
        "from sklearn.model_selection import train_test_split\r\n",
        "from sklearn.metrics import accuracy_score\r\n",
        "from sklearn.model_selection import cross_val_score\r\n",
        "from sklearn import svm"
      ],
      "execution_count": null,
      "outputs": []
    },
    {
      "cell_type": "code",
      "metadata": {
        "id": "VrcHVU5TZStE"
      },
      "source": [
        "from pydrive.auth import GoogleAuth\r\n",
        "from pydrive.drive import GoogleDrive\r\n",
        "from google.colab import auth\r\n",
        "from oauth2client.client import GoogleCredentials\r\n",
        "\r\n",
        "auth.authenticate_user()\r\n",
        "gauth = GoogleAuth()\r\n",
        "gauth.credentials = GoogleCredentials.get_application_default()\r\n",
        "drive = GoogleDrive(gauth)\r\n"
      ],
      "execution_count": 382,
      "outputs": []
    },
    {
      "cell_type": "code",
      "metadata": {
        "id": "J_S76gtK2NSZ"
      },
      "source": [
        "downloaded = drive.CreateFile({'id':'1wd4DXf4nb9dWwieEc3LMkfHfc5V51bha'}) \n",
        "downloaded.GetContentFile('train.csv') \n",
        "downloaded = drive.CreateFile({'id':'1UUPUpFC5hiPO9066Cz7tfUzlmOK5SsES'}) \n",
        "downloaded.GetContentFile('test.csv')"
      ],
      "execution_count": 383,
      "outputs": []
    },
    {
      "cell_type": "code",
      "metadata": {
        "id": "MVGJy2dGjj8R"
      },
      "source": [
        "train_df=pd.read_csv(\"train.csv\")\r\n",
        "test_df=pd.read_csv(\"test.csv\")"
      ],
      "execution_count": 384,
      "outputs": []
    },
    {
      "cell_type": "code",
      "metadata": {
        "id": "DViWY0LzDdA7"
      },
      "source": [
        "test_df[\"Sex\"]=pd.get_dummies(test_df[\"Sex\"])\r\n",
        "train_df[\"Sex\"]=pd.get_dummies(train_df[\"Sex\"])"
      ],
      "execution_count": 385,
      "outputs": []
    },
    {
      "cell_type": "code",
      "metadata": {
        "id": "cR7Gg30sYozP"
      },
      "source": [
        "train_df['Age'].fillna(train_df['Age'].median(), inplace = True)\r\n",
        "test_df['Age'].fillna(test_df['Age'].median(), inplace=True)\r\n",
        "\r\n",
        "train_df['Fare'].fillna(train_df['Fare'].median(), inplace = True)\r\n",
        "test_df['Fare'].fillna(test_df['Fare'].median(), inplace = True)"
      ],
      "execution_count": 386,
      "outputs": []
    },
    {
      "cell_type": "code",
      "metadata": {
        "id": "Pgd_Z-fdryM7"
      },
      "source": [
        "train_df['NewAge'] = pd.cut(train_df['Age'], bins=[0,15,30,60,120], labels=['c','t','a','e'])\r\n",
        "test_df['NewAge'] = pd.cut(test_df['Age'], bins=[0,12,20,40,120], labels=['c','t','a','e'])"
      ],
      "execution_count": 387,
      "outputs": []
    },
    {
      "cell_type": "code",
      "metadata": {
        "id": "vTWur6Z3r89h"
      },
      "source": [
        "train_df['NewFare'] = pd.cut(train_df['Fare'], bins=[0,15,30,60,120], labels=['lf','mf','af','hf'])\r\n",
        "test_df['NewFare'] = pd.cut(test_df['Fare'], bins=[0,15,30,60,120], labels=['lf','mf','af','hf'])\r\n"
      ],
      "execution_count": 389,
      "outputs": []
    },
    {
      "cell_type": "code",
      "metadata": {
        "id": "RitPolObsBEi"
      },
      "source": [
        "train_df = pd.get_dummies(train_df, columns = [\"NewAge\",\"Embarked\"],prefix=[\"Age_type\",\"Em_type\"])\r\n",
        "test_df = pd.get_dummies(test_df, columns = [\"NewAge\",\"Embarked\"],prefix=[\"Age_type\",\"Em_type\"])"
      ],
      "execution_count": 390,
      "outputs": []
    },
    {
      "cell_type": "code",
      "metadata": {
        "id": "sE-cd9-613w3"
      },
      "source": [
        "train_df = pd.get_dummies(train_df, columns = [\"NewFare\"],prefix=[\"Fare_type\"])\r\n",
        "test_df = pd.get_dummies(test_df, columns = [\"NewFare\"],prefix=[\"Fare_type\"])"
      ],
      "execution_count": 392,
      "outputs": []
    },
    {
      "cell_type": "code",
      "metadata": {
        "id": "4t4FZ9wHowww"
      },
      "source": [
        "train_df = train_df.drop(['Name','PassengerId','Cabin','Ticket'], axis=1)\r\n",
        "test_df = test_df.drop(['Name','PassengerId','Cabin','Ticket'], axis=1)"
      ],
      "execution_count": 393,
      "outputs": []
    },
    {
      "cell_type": "code",
      "metadata": {
        "id": "KRdr-1movEQE"
      },
      "source": [
        "train_df = train_df.drop(['Fare','Age'], axis=1)\r\n",
        "test_df = test_df.drop(['Fare','Age'], axis=1)"
      ],
      "execution_count": 394,
      "outputs": []
    },
    {
      "cell_type": "code",
      "metadata": {
        "id": "l6fnRljpoI8H",
        "colab": {
          "base_uri": "https://localhost:8080/"
        },
        "outputId": "99daac44-69a4-40a7-e8c3-55b91bc478b0"
      },
      "source": [
        "f = train_df.drop(\"Survived\",axis=1)\r\n",
        "t = train_df[\"Survived\"]\r\n",
        "X_train,X_test,y_train,y_test = train_test_split(f,t,test_size=0.3,random_state=1)\r\n",
        "X_train.shape,X_test.shape,y_train.shape,y_test.shape"
      ],
      "execution_count": 395,
      "outputs": [
        {
          "output_type": "execute_result",
          "data": {
            "text/plain": [
              "((623, 15), (268, 15), (623,), (268,))"
            ]
          },
          "metadata": {
            "tags": []
          },
          "execution_count": 395
        }
      ]
    },
    {
      "cell_type": "code",
      "metadata": {
        "colab": {
          "base_uri": "https://localhost:8080/"
        },
        "id": "p2AaRQHOuC7F",
        "outputId": "b42d030f-e23e-4e7b-98fc-5951206cb41d"
      },
      "source": [
        "clf = svm.SVC(kernel='linear')   \r\n",
        "clf.fit(X_train, y_train.ravel());\r\n",
        "accuracy_score = cross_val_score(clf, X_train, y_train.ravel(), cv=5, scoring='accuracy').mean()\r\n",
        "print(\"Accuracy of Linear Kernel is\", accuracy_score)"
      ],
      "execution_count": 396,
      "outputs": [
        {
          "output_type": "stream",
          "text": [
            "Accuracy of Linear Kernel is 0.812232258064516\n"
          ],
          "name": "stdout"
        }
      ]
    },
    {
      "cell_type": "code",
      "metadata": {
        "colab": {
          "base_uri": "https://localhost:8080/"
        },
        "id": "5POB_1i9uHW7",
        "outputId": "8f6f2a2a-fab1-4c0a-b405-5502e5662178"
      },
      "source": [
        "clf = svm.SVC(kernel='poly', degree=2)\r\n",
        "clf.fit(X_train, y_train.ravel());\r\n",
        "accuracy_score = cross_val_score(clf, X_train, y_train.ravel(), cv=5, scoring='accuracy').mean()\r\n",
        "print(\"Accuracy of quadratic Kernel \", accuracy_score)"
      ],
      "execution_count": 397,
      "outputs": [
        {
          "output_type": "stream",
          "text": [
            "Accuracy of quadratic Kernel  0.820232258064516\n"
          ],
          "name": "stdout"
        }
      ]
    },
    {
      "cell_type": "code",
      "metadata": {
        "colab": {
          "base_uri": "https://localhost:8080/"
        },
        "id": "ZLD0zkkquJs0",
        "outputId": "e3a07978-03b3-4121-cdb4-7f9ce93e11e7"
      },
      "source": [
        "clf = svm.SVC(kernel='rbf')\r\n",
        "clf.fit(X_train, y_train.ravel());\r\n",
        "\r\n",
        "accuracy_score = cross_val_score(clf, X_train, y_train.ravel(), cv=5, scoring='accuracy').mean()\r\n",
        "print(\"Accuracy of RBF Kernel is \", accuracy_score)"
      ],
      "execution_count": 398,
      "outputs": [
        {
          "output_type": "stream",
          "text": [
            "Accuracy of RBF Kernel is  0.8443096774193549\n"
          ],
          "name": "stdout"
        }
      ]
    },
    {
      "cell_type": "markdown",
      "metadata": {
        "id": "6ZIiY5YbaAY1"
      },
      "source": [
        ""
      ]
    }
  ]
}